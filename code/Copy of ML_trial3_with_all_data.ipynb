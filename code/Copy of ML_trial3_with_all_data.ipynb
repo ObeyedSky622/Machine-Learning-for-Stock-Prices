{
 "cells": [
  {
   "cell_type": "code",
   "execution_count": 15,
   "metadata": {},
   "outputs": [],
   "source": [
    "#this is the library used to graph\n",
    "import matplotlib.pyplot as plt\n",
    "#this library is the dataframe library, we use this to organize and manipulate data\n",
    "import pandas as pd\n",
    "#math and number functions\n",
    "import numpy as np\n",
    "import math \n",
    "#libraries from tutorial\n",
    "import seaborn as sns #used with matplot\n",
    "from sklearn.ensemble import RandomForestClassifier\n",
    "from sklearn.svm import SVC #support vector classifier\n",
    "from sklearn import svm\n",
    "from sklearn.neural_network import MLPClassifier\n",
    "from sklearn.neural_network import MLPRegressor\n",
    "#from sklearn.linear_model import SGDClassifier\n",
    "import sklearn.metrics as metrics\n",
    "from sklearn.preprocessing import StandardScaler, LabelEncoder\n",
    "from sklearn.model_selection import train_test_split\n",
    "from sklearn.impute import SimpleImputer\n",
    "%matplotlib inline \n",
    "#only needed when using jupyter notebook\n",
    "import tensorflow as tf\n",
    "from tensorflow import keras"
   ]
  },
  {
   "cell_type": "code",
   "execution_count": 16,
   "metadata": {},
   "outputs": [],
   "source": [
    "msft = pd.read_excel('MSFT_with_technical_data.xlsx')"
   ]
  },
  {
   "cell_type": "code",
   "execution_count": 37,
   "metadata": {},
   "outputs": [],
   "source": [
    "msft_wo_1 = msft.drop('Unnamed: 27',axis=1)\n",
    "msft_wo_2 = msft_wo_1.drop('Unnamed: 28', axis=1)\n",
    "msft_wo_3 = msft_wo_2.drop('Unnamed: 29', axis=1)\n",
    "msft_wo_4 = msft_wo_3.drop('Unnamed: 30', axis=1)\n",
    "msft_wo_4 = msft_wo_4.drop('Names Date', axis=1)\n",
    "msft_wo_4 = msft_wo_4.drop(0)\n"
   ]
  },
  {
   "cell_type": "code",
   "execution_count": 38,
   "metadata": {},
   "outputs": [],
   "source": [
    "imp = SimpleImputer(strategy='mean')"
   ]
  },
  {
   "cell_type": "code",
   "execution_count": 39,
   "metadata": {},
   "outputs": [],
   "source": [
    "X = msft_wo_4\n",
    "y = msft_wo_4['Closing Price']"
   ]
  },
  {
   "cell_type": "code",
   "execution_count": 40,
   "metadata": {},
   "outputs": [],
   "source": [
    "imp.fit(X)\n",
    "X = imp.transform(X)"
   ]
  },
  {
   "cell_type": "code",
   "execution_count": 41,
   "metadata": {},
   "outputs": [],
   "source": [
    "X_train_full, X_test, y_train_full, y_test = train_test_split(X,y, test_size = 0.2, random_state = 42)\n",
    "X_train,X_valid,y_train,y_valid = train_test_split(X_train_full,y_train_full, random_state = 42)"
   ]
  },
  {
   "cell_type": "code",
   "execution_count": 42,
   "metadata": {},
   "outputs": [],
   "source": [
    "sc = StandardScaler()\n",
    "X_train  = sc.fit_transform(X_train)\n",
    "X_valid = sc.transform(X_test)\n",
    "X_test = sc.transform(X_test)"
   ]
  },
  {
   "cell_type": "code",
   "execution_count": 43,
   "metadata": {},
   "outputs": [
    {
     "data": {
      "text/plain": [
       "(26,)"
      ]
     },
     "execution_count": 43,
     "metadata": {},
     "output_type": "execute_result"
    }
   ],
   "source": [
    "X_train = pd.DataFrame(X_train)\n",
    "X_valid = pd.DataFrame(X_valid)\n",
    "X_test = pd.DataFrame(X_test)\n",
    "X_train.shape[1:]"
   ]
  },
  {
   "cell_type": "code",
   "execution_count": 60,
   "metadata": {},
   "outputs": [],
   "source": [
    "model = keras.models.Sequential([\n",
    "    keras.layers.Dense(15, activation='sigmoid', input_shape=X_train.shape[1:]),\n",
    "    keras.layers.Dense(15,activation='sigmoid'),\n",
    "    keras.layers.Dense(1)\n",
    "])"
   ]
  },
  {
   "cell_type": "code",
   "execution_count": 61,
   "metadata": {},
   "outputs": [],
   "source": [
    "model.compile(loss=\"mean_absolute_error\", optimizer=\"sgd\")"
   ]
  },
  {
   "cell_type": "code",
   "execution_count": 62,
   "metadata": {},
   "outputs": [
    {
     "name": "stdout",
     "output_type": "stream",
     "text": [
      "WARNING:tensorflow:Falling back from v2 loop because of error: Failed to find data adapter that can handle input: <class 'pandas.core.frame.DataFrame'>, <class 'NoneType'>\n",
      "Train on 5112 samples, validate on 1704 samples\n",
      "Epoch 1/100\n",
      "5112/5112 [==============================] - 0s 31us/sample - loss: 57.7922 - val_loss: 51.1403\n",
      "Epoch 2/100\n",
      "5112/5112 [==============================] - 0s 19us/sample - loss: 42.4981 - val_loss: 34.9480\n",
      "Epoch 3/100\n",
      "5112/5112 [==============================] - 0s 19us/sample - loss: 31.6692 - val_loss: 32.2426\n",
      "Epoch 4/100\n",
      "5112/5112 [==============================] - 0s 19us/sample - loss: 25.8541 - val_loss: 30.6433\n",
      "Epoch 5/100\n",
      "5112/5112 [==============================] - 0s 20us/sample - loss: 20.7134 - val_loss: 30.6257\n",
      "Epoch 6/100\n",
      "5112/5112 [==============================] - 0s 19us/sample - loss: 16.5932 - val_loss: 31.5885\n",
      "Epoch 7/100\n",
      "5112/5112 [==============================] - 0s 20us/sample - loss: 13.8161 - val_loss: 32.5268\n",
      "Epoch 8/100\n",
      "5112/5112 [==============================] - 0s 19us/sample - loss: 12.1296 - val_loss: 33.1228\n",
      "Epoch 9/100\n",
      "5112/5112 [==============================] - 0s 19us/sample - loss: 10.8399 - val_loss: 33.4934\n",
      "Epoch 10/100\n",
      "5112/5112 [==============================] - 0s 19us/sample - loss: 9.6986 - val_loss: 33.9767\n",
      "Epoch 11/100\n",
      "5112/5112 [==============================] - 0s 19us/sample - loss: 8.7180 - val_loss: 34.1582\n",
      "Epoch 12/100\n",
      "5112/5112 [==============================] - 0s 19us/sample - loss: 7.8704 - val_loss: 34.4900\n",
      "Epoch 13/100\n",
      "5112/5112 [==============================] - 0s 19us/sample - loss: 7.1692 - val_loss: 34.9532\n",
      "Epoch 14/100\n",
      "5112/5112 [==============================] - 0s 19us/sample - loss: 6.5830 - val_loss: 35.1387\n",
      "Epoch 15/100\n",
      "5112/5112 [==============================] - 0s 20us/sample - loss: 6.0930 - val_loss: 35.4021\n",
      "Epoch 16/100\n",
      "5112/5112 [==============================] - 0s 19us/sample - loss: 5.6705 - val_loss: 35.5889\n",
      "Epoch 17/100\n",
      "5112/5112 [==============================] - 0s 19us/sample - loss: 5.3158 - val_loss: 35.8696\n",
      "Epoch 18/100\n",
      "5112/5112 [==============================] - 0s 19us/sample - loss: 5.0052 - val_loss: 35.9100\n",
      "Epoch 19/100\n",
      "5112/5112 [==============================] - 0s 19us/sample - loss: 4.7045 - val_loss: 36.1520\n",
      "Epoch 20/100\n",
      "5112/5112 [==============================] - 0s 19us/sample - loss: 4.4242 - val_loss: 36.1967\n",
      "Epoch 21/100\n",
      "5112/5112 [==============================] - 0s 19us/sample - loss: 4.1749 - val_loss: 36.2725\n",
      "Epoch 22/100\n",
      "5112/5112 [==============================] - 0s 19us/sample - loss: 3.9143 - val_loss: 36.8520\n",
      "Epoch 23/100\n",
      "5112/5112 [==============================] - 0s 20us/sample - loss: 3.6749 - val_loss: 36.5664\n",
      "Epoch 24/100\n",
      "5112/5112 [==============================] - 0s 20us/sample - loss: 3.4340 - val_loss: 37.0074\n",
      "Epoch 25/100\n",
      "5112/5112 [==============================] - 0s 19us/sample - loss: 3.1860 - val_loss: 37.0769\n",
      "Epoch 26/100\n",
      "5112/5112 [==============================] - 0s 20us/sample - loss: 2.9272 - val_loss: 37.4391\n",
      "Epoch 27/100\n",
      "5112/5112 [==============================] - 0s 19us/sample - loss: 2.6837 - val_loss: 37.4362\n",
      "Epoch 28/100\n",
      "5112/5112 [==============================] - 0s 19us/sample - loss: 2.4871 - val_loss: 37.1516\n",
      "Epoch 29/100\n",
      "5112/5112 [==============================] - 0s 19us/sample - loss: 2.3121 - val_loss: 37.1164\n",
      "Epoch 30/100\n",
      "5112/5112 [==============================] - 0s 19us/sample - loss: 2.1638 - val_loss: 37.2233\n",
      "Epoch 31/100\n",
      "5112/5112 [==============================] - 0s 20us/sample - loss: 2.0690 - val_loss: 37.3196\n",
      "Epoch 32/100\n",
      "5112/5112 [==============================] - 0s 20us/sample - loss: 1.9886 - val_loss: 37.7838\n",
      "Epoch 33/100\n",
      "5112/5112 [==============================] - 0s 20us/sample - loss: 1.8772 - val_loss: 37.8329\n",
      "Epoch 34/100\n",
      "5112/5112 [==============================] - 0s 19us/sample - loss: 1.7983 - val_loss: 38.1081\n",
      "Epoch 35/100\n",
      "5112/5112 [==============================] - 0s 19us/sample - loss: 1.7799 - val_loss: 38.0275\n",
      "Epoch 36/100\n",
      "5112/5112 [==============================] - 0s 19us/sample - loss: 1.6898 - val_loss: 38.3299\n",
      "Epoch 37/100\n",
      "5112/5112 [==============================] - 0s 20us/sample - loss: 1.6343 - val_loss: 38.2321\n",
      "Epoch 38/100\n",
      "5112/5112 [==============================] - 0s 19us/sample - loss: 1.5846 - val_loss: 38.9399\n",
      "Epoch 39/100\n",
      "5112/5112 [==============================] - 0s 20us/sample - loss: 1.5195 - val_loss: 37.8943\n",
      "Epoch 40/100\n",
      "5112/5112 [==============================] - 0s 20us/sample - loss: 1.4872 - val_loss: 37.3413\n",
      "Epoch 41/100\n",
      "5112/5112 [==============================] - 0s 19us/sample - loss: 1.4656 - val_loss: 37.8422\n",
      "Epoch 42/100\n",
      "5112/5112 [==============================] - 0s 20us/sample - loss: 1.4071 - val_loss: 38.9766\n",
      "Epoch 43/100\n",
      "5112/5112 [==============================] - 0s 19us/sample - loss: 1.4231 - val_loss: 38.9558\n",
      "Epoch 44/100\n",
      "5112/5112 [==============================] - 0s 19us/sample - loss: 1.3423 - val_loss: 38.7240\n",
      "Epoch 45/100\n",
      "5112/5112 [==============================] - 0s 20us/sample - loss: 1.3101 - val_loss: 38.5714\n",
      "Epoch 46/100\n",
      "5112/5112 [==============================] - 0s 19us/sample - loss: 1.2777 - val_loss: 39.1780\n",
      "Epoch 47/100\n",
      "5112/5112 [==============================] - 0s 19us/sample - loss: 1.2383 - val_loss: 38.9233\n",
      "Epoch 48/100\n",
      "5112/5112 [==============================] - 0s 20us/sample - loss: 1.2272 - val_loss: 38.4810\n",
      "Epoch 49/100\n",
      "5112/5112 [==============================] - 0s 19us/sample - loss: 1.2001 - val_loss: 38.3249\n",
      "Epoch 50/100\n",
      "5112/5112 [==============================] - 0s 19us/sample - loss: 1.1349 - val_loss: 38.8118\n",
      "Epoch 51/100\n",
      "5112/5112 [==============================] - 0s 20us/sample - loss: 1.1668 - val_loss: 38.6937\n",
      "Epoch 52/100\n",
      "5112/5112 [==============================] - 0s 19us/sample - loss: 1.1232 - val_loss: 38.6137\n",
      "Epoch 53/100\n",
      "5112/5112 [==============================] - 0s 20us/sample - loss: 1.1256 - val_loss: 39.0473\n",
      "Epoch 54/100\n",
      "5112/5112 [==============================] - 0s 19us/sample - loss: 1.1037 - val_loss: 38.5504\n",
      "Epoch 55/100\n",
      "5112/5112 [==============================] - 0s 19us/sample - loss: 1.0914 - val_loss: 38.7439\n",
      "Epoch 56/100\n",
      "5112/5112 [==============================] - 0s 19us/sample - loss: 1.0777 - val_loss: 38.9459\n",
      "Epoch 57/100\n",
      "5112/5112 [==============================] - 0s 19us/sample - loss: 1.0360 - val_loss: 38.3739\n",
      "Epoch 58/100\n",
      "5112/5112 [==============================] - 0s 19us/sample - loss: 1.0635 - val_loss: 38.8964\n",
      "Epoch 59/100\n",
      "5112/5112 [==============================] - 0s 19us/sample - loss: 1.0280 - val_loss: 39.1755\n",
      "Epoch 60/100\n",
      "5112/5112 [==============================] - 0s 19us/sample - loss: 1.0253 - val_loss: 38.8252\n",
      "Epoch 61/100\n",
      "5112/5112 [==============================] - 0s 20us/sample - loss: 1.0351 - val_loss: 38.2115\n",
      "Epoch 62/100\n",
      "5112/5112 [==============================] - 0s 19us/sample - loss: 0.9937 - val_loss: 38.3764\n",
      "Epoch 63/100\n",
      "5112/5112 [==============================] - 0s 19us/sample - loss: 0.9923 - val_loss: 38.6143\n",
      "Epoch 64/100\n",
      "5112/5112 [==============================] - 0s 19us/sample - loss: 0.9691 - val_loss: 38.2105\n",
      "Epoch 65/100\n",
      "5112/5112 [==============================] - 0s 18us/sample - loss: 0.9920 - val_loss: 38.8969\n",
      "Epoch 66/100\n",
      "5112/5112 [==============================] - 0s 19us/sample - loss: 0.9700 - val_loss: 38.8655\n",
      "Epoch 67/100\n",
      "5112/5112 [==============================] - 0s 19us/sample - loss: 0.9784 - val_loss: 38.8303\n",
      "Epoch 68/100\n",
      "5112/5112 [==============================] - 0s 19us/sample - loss: 0.9484 - val_loss: 38.2053\n",
      "Epoch 69/100\n",
      "5112/5112 [==============================] - 0s 20us/sample - loss: 0.9681 - val_loss: 38.8535\n",
      "Epoch 70/100\n",
      "5112/5112 [==============================] - 0s 19us/sample - loss: 0.9438 - val_loss: 39.0085\n",
      "Epoch 71/100\n",
      "5112/5112 [==============================] - 0s 19us/sample - loss: 0.9226 - val_loss: 38.0827\n",
      "Epoch 72/100\n",
      "5112/5112 [==============================] - 0s 18us/sample - loss: 0.9297 - val_loss: 38.1265\n",
      "Epoch 73/100\n",
      "5112/5112 [==============================] - 0s 19us/sample - loss: 0.9211 - val_loss: 38.9626\n",
      "Epoch 74/100\n",
      "5112/5112 [==============================] - 0s 19us/sample - loss: 0.9153 - val_loss: 39.2127\n"
     ]
    },
    {
     "name": "stdout",
     "output_type": "stream",
     "text": [
      "Epoch 75/100\n",
      "5112/5112 [==============================] - 0s 18us/sample - loss: 0.8902 - val_loss: 38.8312\n",
      "Epoch 76/100\n",
      "5112/5112 [==============================] - 0s 19us/sample - loss: 0.9013 - val_loss: 38.8980\n",
      "Epoch 77/100\n",
      "5112/5112 [==============================] - 0s 19us/sample - loss: 0.9040 - val_loss: 38.7058\n",
      "Epoch 78/100\n",
      "5112/5112 [==============================] - 0s 18us/sample - loss: 0.9173 - val_loss: 38.8086\n",
      "Epoch 79/100\n",
      "5112/5112 [==============================] - 0s 19us/sample - loss: 0.8957 - val_loss: 38.6443\n",
      "Epoch 80/100\n",
      "5112/5112 [==============================] - 0s 19us/sample - loss: 0.8913 - val_loss: 38.9456\n",
      "Epoch 81/100\n",
      "5112/5112 [==============================] - 0s 19us/sample - loss: 0.8811 - val_loss: 38.8239\n",
      "Epoch 82/100\n",
      "5112/5112 [==============================] - 0s 19us/sample - loss: 0.8773 - val_loss: 38.1506\n",
      "Epoch 83/100\n",
      "5112/5112 [==============================] - 0s 18us/sample - loss: 0.8620 - val_loss: 38.3359\n",
      "Epoch 84/100\n",
      "5112/5112 [==============================] - 0s 19us/sample - loss: 0.8787 - val_loss: 38.2287\n",
      "Epoch 85/100\n",
      "5112/5112 [==============================] - 0s 19us/sample - loss: 0.8562 - val_loss: 38.7072\n",
      "Epoch 86/100\n",
      "5112/5112 [==============================] - 0s 19us/sample - loss: 0.8595 - val_loss: 39.0490\n",
      "Epoch 87/100\n",
      "5112/5112 [==============================] - 0s 19us/sample - loss: 0.8883 - val_loss: 38.7707\n",
      "Epoch 88/100\n",
      "5112/5112 [==============================] - 0s 18us/sample - loss: 0.8298 - val_loss: 38.5888\n",
      "Epoch 89/100\n",
      "5112/5112 [==============================] - 0s 20us/sample - loss: 0.8609 - val_loss: 38.3100\n",
      "Epoch 90/100\n",
      "5112/5112 [==============================] - 0s 19us/sample - loss: 0.8413 - val_loss: 38.1171\n",
      "Epoch 91/100\n",
      "5112/5112 [==============================] - 0s 19us/sample - loss: 0.8457 - val_loss: 38.5303\n",
      "Epoch 92/100\n",
      "5112/5112 [==============================] - 0s 19us/sample - loss: 0.8225 - val_loss: 38.5751\n",
      "Epoch 93/100\n",
      "5112/5112 [==============================] - 0s 19us/sample - loss: 0.8195 - val_loss: 37.8740\n",
      "Epoch 94/100\n",
      "5112/5112 [==============================] - 0s 20us/sample - loss: 0.8285 - val_loss: 38.5154\n",
      "Epoch 95/100\n",
      "5112/5112 [==============================] - 0s 19us/sample - loss: 0.8154 - val_loss: 38.9976\n",
      "Epoch 96/100\n",
      "5112/5112 [==============================] - 0s 19us/sample - loss: 0.8297 - val_loss: 38.7189\n",
      "Epoch 97/100\n",
      "5112/5112 [==============================] - 0s 19us/sample - loss: 0.8236 - val_loss: 38.4428\n",
      "Epoch 98/100\n",
      "5112/5112 [==============================] - 0s 19us/sample - loss: 0.7930 - val_loss: 38.8240\n",
      "Epoch 99/100\n",
      "5112/5112 [==============================] - 0s 19us/sample - loss: 0.7970 - val_loss: 38.4541\n",
      "Epoch 100/100\n",
      "5112/5112 [==============================] - 0s 19us/sample - loss: 0.7875 - val_loss: 39.1727\n"
     ]
    }
   ],
   "source": [
    "history = model.fit(X_train,y_train,epochs=100, validation_data=(X_valid,y_valid))"
   ]
  },
  {
   "cell_type": "code",
   "execution_count": 63,
   "metadata": {},
   "outputs": [
    {
     "name": "stdout",
     "output_type": "stream",
     "text": [
      "WARNING:tensorflow:Falling back from v2 loop because of error: Failed to find data adapter that can handle input: <class 'pandas.core.frame.DataFrame'>, <class 'NoneType'>\n",
      "1704/1704 [==============================] - 0s 10us/sample - loss: 1.3525\n"
     ]
    }
   ],
   "source": [
    "mse_test = model.evaluate(X_test,y_test)"
   ]
  },
  {
   "cell_type": "code",
   "execution_count": 64,
   "metadata": {},
   "outputs": [
    {
     "data": {
      "image/png": "[encoded data removed]",
      "text/plain": [
       "<Figure size 576x360 with 1 Axes>"
      ]
     },
     "metadata": {
      "needs_background": "light"
     },
     "output_type": "display_data"
    }
   ],
   "source": [
    "pd.DataFrame(history.history).plot(figsize=(8,5))\n",
    "plt.grid(True)\n",
    "plt.gca().set_ylim(0,1)\n",
    "plt.show()"
   ]
  },
  {
   "cell_type": "code",
   "execution_count": null,
   "metadata": {},
   "outputs": [],
   "source": []
  }
 ],
 "metadata": {
  "kernelspec": {
   "display_name": "Python 3",
   "language": "python",
   "name": "python3"
  },
  "language_info": {
   "codemirror_mode": {
    "name": "ipython",
    "version": 3
   },
   "file_extension": ".py",
   "mimetype": "text/x-python",
   "name": "python",
   "nbconvert_exporter": "python",
   "pygments_lexer": "ipython3",
   "version": "3.7.9"
  }
 },
 "nbformat": 4,
 "nbformat_minor": 4
}
