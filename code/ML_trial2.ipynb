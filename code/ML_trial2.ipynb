{
 "cells": [
  {
   "cell_type": "code",
   "execution_count": 2,
   "metadata": {},
   "outputs": [],
   "source": [
    "#this is the library used to graph\n",
    "import matplotlib.pyplot as plt\n",
    "\n",
    "#this library is the dataframe library, we use this to organize and manipulate data\n",
    "import pandas as pd\n",
    "\n",
    "#math and number functions\n",
    "import numpy as np\n",
    "import math \n",
    "\n",
    "#libraries from tutorial\n",
    "\n",
    "import seaborn as sns #used with matplot\n",
    "\n",
    "from sklearn.ensemble import RandomForestClassifier\n",
    "from sklearn.svm import SVC #support vector classifier\n",
    "from sklearn import svm\n",
    "from sklearn.neural_network import MLPClassifier\n",
    "from sklearn.neural_network import MLPRegressor\n",
    "#from sklearn.linear_model import SGDClassifier\n",
    "import sklearn.metrics as metrics\n",
    "from sklearn.preprocessing import StandardScaler, LabelEncoder\n",
    "from sklearn.model_selection import train_test_split\n",
    "%matplotlib inline \n",
    "#only needed when using jupyter notebook"
   ]
  },
  {
   "cell_type": "code",
   "execution_count": 3,
   "metadata": {},
   "outputs": [],
   "source": [
    "msft = pd.read_excel('msft_price_volume_daily.xlsx')"
   ]
  },
  {
   "cell_type": "code",
   "execution_count": 4,
   "metadata": {},
   "outputs": [
    {
     "data": {
      "text/html": [
       "<div>\n",
       "<style scoped>\n",
       "    .dataframe tbody tr th:only-of-type {\n",
       "        vertical-align: middle;\n",
       "    }\n",
       "\n",
       "    .dataframe tbody tr th {\n",
       "        vertical-align: top;\n",
       "    }\n",
       "\n",
       "    .dataframe thead th {\n",
       "        text-align: right;\n",
       "    }\n",
       "</style>\n",
       "<table border=\"1\" class=\"dataframe\">\n",
       "  <thead>\n",
       "    <tr style=\"text-align: right;\">\n",
       "      <th></th>\n",
       "      <th>PERMNO</th>\n",
       "      <th>Names Date</th>\n",
       "      <th>Price or Bid/Ask Average</th>\n",
       "      <th>Volume</th>\n",
       "    </tr>\n",
       "  </thead>\n",
       "  <tbody>\n",
       "    <tr>\n",
       "      <th>0</th>\n",
       "      <td>10107</td>\n",
       "      <td>03/13/1986</td>\n",
       "      <td>28.00</td>\n",
       "      <td>3597701</td>\n",
       "    </tr>\n",
       "    <tr>\n",
       "      <th>1</th>\n",
       "      <td>10107</td>\n",
       "      <td>03/14/1986</td>\n",
       "      <td>29.00</td>\n",
       "      <td>1077151</td>\n",
       "    </tr>\n",
       "    <tr>\n",
       "      <th>2</th>\n",
       "      <td>10107</td>\n",
       "      <td>03/17/1986</td>\n",
       "      <td>29.50</td>\n",
       "      <td>465719</td>\n",
       "    </tr>\n",
       "    <tr>\n",
       "      <th>3</th>\n",
       "      <td>10107</td>\n",
       "      <td>03/18/1986</td>\n",
       "      <td>28.75</td>\n",
       "      <td>232056</td>\n",
       "    </tr>\n",
       "    <tr>\n",
       "      <th>4</th>\n",
       "      <td>10107</td>\n",
       "      <td>03/19/1986</td>\n",
       "      <td>28.25</td>\n",
       "      <td>168024</td>\n",
       "    </tr>\n",
       "  </tbody>\n",
       "</table>\n",
       "</div>"
      ],
      "text/plain": [
       "   PERMNO  Names Date  Price or Bid/Ask Average   Volume\n",
       "0   10107  03/13/1986                     28.00  3597701\n",
       "1   10107  03/14/1986                     29.00  1077151\n",
       "2   10107  03/17/1986                     29.50   465719\n",
       "3   10107  03/18/1986                     28.75   232056\n",
       "4   10107  03/19/1986                     28.25   168024"
      ]
     },
     "execution_count": 4,
     "metadata": {},
     "output_type": "execute_result"
    }
   ],
   "source": [
    "msft.head()"
   ]
  },
  {
   "cell_type": "code",
   "execution_count": 5,
   "metadata": {},
   "outputs": [],
   "source": [
    "msft = msft.drop('Names Date', axis=1)\n",
    "X = msft.drop('PERMNO', axis=1)\n",
    "y = msft['Price or Bid/Ask Average']"
   ]
  },
  {
   "cell_type": "code",
   "execution_count": 6,
   "metadata": {},
   "outputs": [],
   "source": [
    "X_train, X_test, y_train, y_test = train_test_split(X,y, test_size = 0.2, random_state = 42)"
   ]
  },
  {
   "cell_type": "code",
   "execution_count": 7,
   "metadata": {},
   "outputs": [],
   "source": [
    "sc = StandardScaler()\n",
    "X_train  = sc.fit_transform(X_train)\n",
    "X_test = sc.transform(X_test)"
   ]
  },
  {
   "cell_type": "code",
   "execution_count": 8,
   "metadata": {},
   "outputs": [
    {
     "data": {
      "text/plain": [
       "array([[-0.18746612, -0.98521149],\n",
       "       [-0.96860168,  1.68738274],\n",
       "       [-0.38621916, -0.93992733],\n",
       "       [-0.81653754,  1.05157049],\n",
       "       [ 0.41963406, -0.85439747],\n",
       "       [ 3.0034235 , -0.60748131],\n",
       "       [-1.11112568,  0.79225279],\n",
       "       [ 0.5280448 , -0.95915779],\n",
       "       [-1.03422632,  1.40648421],\n",
       "       [ 0.86773181, -0.96791896]])"
      ]
     },
     "execution_count": 8,
     "metadata": {},
     "output_type": "execute_result"
    }
   ],
   "source": [
    "X_train[:10]"
   ]
  },
  {
   "cell_type": "code",
   "execution_count": 9,
   "metadata": {},
   "outputs": [],
   "source": [
    "mlpr = MLPRegressor(hidden_layer_sizes=(3,1), activation='relu', solver='adam',alpha=0.0001,batch_size='auto',learning_rate='constant',max_iter = 500)\n",
    "mlpr.fit(X_train, y_train)\n",
    "pred_mlpr = mlpr.predict(X_test)"
   ]
  },
  {
   "cell_type": "code",
   "execution_count": 10,
   "metadata": {},
   "outputs": [
    {
     "name": "stdout",
     "output_type": "stream",
     "text": [
      "0.0005352663178257444\n"
     ]
    }
   ],
   "source": [
    "print(metrics.max_error(y_test, pred_mlpr))"
   ]
  },
  {
   "cell_type": "code",
   "execution_count": 11,
   "metadata": {},
   "outputs": [
    {
     "name": "stdout",
     "output_type": "stream",
     "text": [
      "[ 55.26994466  53.31994344 119.00021722 ...  25.33988838  23.63981046\n",
      "  26.58986462]\n"
     ]
    }
   ],
   "source": [
    "print(pred_mlpr)"
   ]
  },
  {
   "cell_type": "code",
   "execution_count": null,
   "metadata": {},
   "outputs": [],
   "source": []
  }
 ],
 "metadata": {
  "kernelspec": {
   "display_name": "Python 3",
   "language": "python",
   "name": "python3"
  },
  "language_info": {
   "codemirror_mode": {
    "name": "ipython",
    "version": 3
   },
   "file_extension": ".py",
   "mimetype": "text/x-python",
   "name": "python",
   "nbconvert_exporter": "python",
   "pygments_lexer": "ipython3",
   "version": "3.8.3"
  }
 },
 "nbformat": 4,
 "nbformat_minor": 4
}
